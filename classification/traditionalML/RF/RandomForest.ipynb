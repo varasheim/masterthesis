{
 "cells": [
  {
   "cell_type": "code",
   "execution_count": null,
   "metadata": {},
   "outputs": [],
   "source": [
    "#imports\n",
    "import numpy as np\n",
    "import pickle\n",
    "from matplotlib import pyplot as plt\n",
    "from scipy.stats import randint\n",
    "from sklearn.ensemble import RandomForestClassifier\n",
    "from sklearn.metrics import accuracy_score, confusion_matrix, precision_recall_fscore_support, ConfusionMatrixDisplay\n",
    "from sklearn.model_selection import RandomizedSearchCV"
   ]
  },
  {
   "cell_type": "code",
   "execution_count": null,
   "metadata": {},
   "outputs": [],
   "source": [
    "#load data here from Reddit ADHD Dataset with all classes. Replace filenames.\n",
    "\n",
    "with open('evaluation-x-file', 'rb') as file:\n",
    "    evaluation_x = pickle.load(file)\n",
    "\n",
    "with open('evaluation-y-file', 'rb') as file:\n",
    "    evaluation_y = pickle.load(file)\n",
    "\n",
    "with open('x-train-file', 'rb') as file:\n",
    "    X_training = pickle.load(file)\n",
    "\n",
    "with open('y-train-file', 'rb') as file:\n",
    "    y_training = pickle.load(file) "
   ]
  },
  {
   "cell_type": "code",
   "execution_count": null,
   "metadata": {},
   "outputs": [],
   "source": [
    "#implementation of Random Forest model \n",
    "param_dist = {'n_estimators': randint(50,700),\n",
    "              'max_depth': randint(1,20)}\n",
    "model = RandomForestClassifier()\n",
    "#find best hyperparameters by random search in the parameter distribution. cv= cross-validation\n",
    "rand_search = RandomizedSearchCV(model, \n",
    "                                 param_distributions = param_dist, \n",
    "                                 n_iter=5, \n",
    "                                 cv=5)\n",
    "\n",
    "\n",
    "rand_search.fit(X_training, y_training) #fit with training data\n",
    "\n",
    "predictions = rand_search.predict(evaluation_x) #fit model with training data\n",
    "\n",
    "#evaluation of predictions\n",
    "accuracy = accuracy_score(evaluation_y, predictions)\n",
    "precision, recall, f1, _ = precision_recall_fscore_support(evaluation_y, predictions, average='weighted')\n",
    "\n",
    "\n",
    "print(f\"Accuracy: {accuracy:.2f}\")\n",
    "print(f'Precision: {precision:.2f}')\n",
    "print(f'Recall: {recall:.2f}')\n",
    "print(f'F1 Score: {f1:.2f}')\n",
    "\n",
    "#create confusion matrix\n",
    "cm = confusion_matrix(evaluation_y, predictions)\n",
    "print(\"Confusion Matrix:\")\n",
    "print(cm)\n",
    "disp = ConfusionMatrixDisplay(confusion_matrix=cm, display_labels=np.unique(evaluation_y))\n",
    "disp.plot(cmap='Blues', values_format='d')\n",
    "plt.show()"
   ]
  }
 ],
 "metadata": {
  "kernelspec": {
   "display_name": "Python 3",
   "language": "python",
   "name": "python3"
  },
  "language_info": {
   "codemirror_mode": {
    "name": "ipython",
    "version": 3
   },
   "file_extension": ".py",
   "mimetype": "text/x-python",
   "name": "python",
   "nbconvert_exporter": "python",
   "pygments_lexer": "ipython3",
   "version": "3.10.0"
  }
 },
 "nbformat": 4,
 "nbformat_minor": 2
}
