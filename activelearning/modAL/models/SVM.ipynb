{
 "cells": [
  {
   "cell_type": "code",
   "execution_count": 1,
   "metadata": {},
   "outputs": [],
   "source": [
    "import pandas as pd\n",
    "import numpy as np"
   ]
  },
  {
   "cell_type": "code",
   "execution_count": 2,
   "metadata": {},
   "outputs": [],
   "source": [
    "import pickle\n",
    "\n",
    "#open pickle files\n",
    "with open('x_training.pkl', 'rb') as file:\n",
    "    X_training = pickle.load(file)\n",
    "\n",
    "with open('y_training.pkl', 'rb') as file:\n",
    "    y_training = pickle.load(file)\n",
    "\n",
    "with open('evaluation_x.pkl', 'rb') as file:\n",
    "    evaluation_x = pickle.load(file)\n",
    "\n",
    "with open('evaluation_y.pkl', 'rb') as file:\n",
    "    evaluation_y = pickle.load(file)\n",
    "\n",
    "with open('Y_pool.pkl', 'rb') as file:\n",
    "    Y_pool = pickle.load(file)\n",
    "\n",
    "with open('X_pool', 'rb') as file:\n",
    "   X_pool = pickle.load(file)\n",
    "\n",
    "with open('embeddings_unlabeled', 'rb') as file:\n",
    "    embeddings_unlabeled = pickle.load(file)\n"
   ]
  },
  {
   "cell_type": "code",
   "execution_count": 7,
   "metadata": {},
   "outputs": [
    {
     "name": "stdout",
     "output_type": "stream",
     "text": [
      "14981    I Keep getting called lazyPeople keep calling me lazy, but when I press them and ask them why they said that their reply is always *\"You're not lazy, but you're easily distracted.\"* This I agree with, but I want to not be distracted to easily I want to be a hard worker I work hard when I am focused I work so hard that when I am locked in I know others won't be able to out work me. This is only when I am locked in and interested, how do I change this how do I work hard and not become so easily distracted? What have you found works for you and does not work for you?\n",
      "Name: combined_text, dtype: object\n",
      "[0.495, 0.475]\n",
      "4089    Question about getting a little help from my UniversityHey guys, you all were so helpful in my last post. I have two questions. I have a meeting on Thursday with a psychiatrist, hopefully going to get some help. My mom offered to drive all the way to my college to go to the meeting with me so it doesn't appear like I'm just seeking drugs (I'm not, just seems to be my only option left). Is that a good idea?\\n\\nSecond, if I get diagnosed, how helpful are the professors if I tell them I was diagnosed, the ADD caused a lot of stress over grades, which led to a depression that caused my grades to drop, and created a nasty cycle (this is true, I haven't/won't lie about this disorder), will they give me a chance to improve my grades? I'm a little nervous about this. \\n\\nThank you for your time.\n",
      "Name: combined_text, dtype: object\n",
      "[0.495, 0.475, 0.475]\n",
      "2087    I had a bad experience being prescribed Concerta, but want to try solving this again. How to approach my doctor (and which one)?Basically, I took Concerta (36 mg for a while, then moved to 54 mg when the 36 wasn't working for me) and got to the point where the meds were 'changing' me too much. I didn't feel myself, I started being rude and abrasive to friends and family. Some days I would get so depressed that I would have to leave school early (I honestly never felt so awful, I had a rough time in high school but even thinking about how I felt on those days is rough). At the time I felt like any ADD med would do something too similar to that, so I gave up. \\n\\nSecond year in College and I'm starting to be affected by adhd more than I ever have been, and honestly I'm beginning to fail out of school because of it. I plan on researching some local psychs to find someone a bit more helpful than my last one (great guy, very understanding, but I didn't feel like I achieved anything by talking to him because we were both quiet people). But I want to begin trying some other medications to see if I could find something that doesn't give me as severe of side effects (depression was the worst, but the pounding heartbeat and headaches would be nice to do without as well). \\n\\nTl;Dr Concerta had too severe of side effects on me, what're some meds I can talk to my doc about? Also which doctor do I talk to about this (regular doc, psychologist?)\n",
      "Name: combined_text, dtype: object\n",
      "[0.495, 0.475, 0.475, 0.47]\n",
      "5545    What are some good methods for helping new good habits stick?I always see [many good suggestions](http://www.reddit.com/r/ADHD/comments/1cf1n3/massive_compilation_of_tips_for_dealing_with_adhd/) and behaviors that help manage some of the symptoms of ADHD like;\\n\\n- Picking up and organizing items every time you walk into your room\\n- Putting your keys, wallet, etc in a set place\\n- Preparing and laying out your items the day before\\n- Blocks of breaks and blocks of work\\n- Personal whiteboard, in reach of your chair, for task management. Nobody else to touch, etc\\n\\nHowever, **what are some good suggestions for helping these good new habits stick?**\n",
      "Name: combined_text, dtype: object\n",
      "[0.495, 0.475, 0.475, 0.47, 0.495]\n"
     ]
    },
    {
     "ename": "KeyError",
     "evalue": "\"None of [Int64Index([1172], dtype='int64')] are in the [index]\"",
     "output_type": "error",
     "traceback": [
      "\u001b[0;31m---------------------------------------------------------------------------\u001b[0m",
      "\u001b[0;31mKeyError\u001b[0m                                  Traceback (most recent call last)",
      "Cell \u001b[0;32mIn[7], line 26\u001b[0m\n\u001b[1;32m     23\u001b[0m query_idx, query_instance \u001b[38;5;241m=\u001b[39m learner\u001b[38;5;241m.\u001b[39mquery(X_pool)\n\u001b[1;32m     25\u001b[0m \u001b[38;5;66;03m# Obtain new labels for the queried instances\u001b[39;00m\n\u001b[0;32m---> 26\u001b[0m \u001b[38;5;28mprint\u001b[39m(\u001b[43membeddings_unlabeled\u001b[49m\u001b[38;5;241;43m.\u001b[39;49m\u001b[43mloc\u001b[49m\u001b[43m[\u001b[49m\u001b[43mquery_idx\u001b[49m\u001b[43m]\u001b[49m[\u001b[38;5;124m'\u001b[39m\u001b[38;5;124mcombined_text\u001b[39m\u001b[38;5;124m'\u001b[39m])\n\u001b[1;32m     27\u001b[0m sys\u001b[38;5;241m.\u001b[39mstdout\u001b[38;5;241m.\u001b[39mflush()\n\u001b[1;32m     28\u001b[0m \u001b[38;5;66;03m# Get the label from the human annotator\u001b[39;00m\n\u001b[1;32m     29\u001b[0m \u001b[38;5;66;03m#label = float(input(\"Enter the label (1.0, 0.0, 2.0, 3.0, 4.0): \"))\u001b[39;00m\n",
      "File \u001b[0;32m/Library/Frameworks/Python.framework/Versions/3.10/lib/python3.10/site-packages/pandas/core/indexing.py:1073\u001b[0m, in \u001b[0;36m_LocationIndexer.__getitem__\u001b[0;34m(self, key)\u001b[0m\n\u001b[1;32m   1070\u001b[0m axis \u001b[38;5;241m=\u001b[39m \u001b[38;5;28mself\u001b[39m\u001b[38;5;241m.\u001b[39maxis \u001b[38;5;129;01mor\u001b[39;00m \u001b[38;5;241m0\u001b[39m\n\u001b[1;32m   1072\u001b[0m maybe_callable \u001b[38;5;241m=\u001b[39m com\u001b[38;5;241m.\u001b[39mapply_if_callable(key, \u001b[38;5;28mself\u001b[39m\u001b[38;5;241m.\u001b[39mobj)\n\u001b[0;32m-> 1073\u001b[0m \u001b[38;5;28;01mreturn\u001b[39;00m \u001b[38;5;28;43mself\u001b[39;49m\u001b[38;5;241;43m.\u001b[39;49m\u001b[43m_getitem_axis\u001b[49m\u001b[43m(\u001b[49m\u001b[43mmaybe_callable\u001b[49m\u001b[43m,\u001b[49m\u001b[43m \u001b[49m\u001b[43maxis\u001b[49m\u001b[38;5;241;43m=\u001b[39;49m\u001b[43maxis\u001b[49m\u001b[43m)\u001b[49m\n",
      "File \u001b[0;32m/Library/Frameworks/Python.framework/Versions/3.10/lib/python3.10/site-packages/pandas/core/indexing.py:1301\u001b[0m, in \u001b[0;36m_LocIndexer._getitem_axis\u001b[0;34m(self, key, axis)\u001b[0m\n\u001b[1;32m   1298\u001b[0m     \u001b[38;5;28;01mif\u001b[39;00m \u001b[38;5;28mhasattr\u001b[39m(key, \u001b[38;5;124m\"\u001b[39m\u001b[38;5;124mndim\u001b[39m\u001b[38;5;124m\"\u001b[39m) \u001b[38;5;129;01mand\u001b[39;00m key\u001b[38;5;241m.\u001b[39mndim \u001b[38;5;241m>\u001b[39m \u001b[38;5;241m1\u001b[39m:\n\u001b[1;32m   1299\u001b[0m         \u001b[38;5;28;01mraise\u001b[39;00m \u001b[38;5;167;01mValueError\u001b[39;00m(\u001b[38;5;124m\"\u001b[39m\u001b[38;5;124mCannot index with multidimensional key\u001b[39m\u001b[38;5;124m\"\u001b[39m)\n\u001b[0;32m-> 1301\u001b[0m     \u001b[38;5;28;01mreturn\u001b[39;00m \u001b[38;5;28;43mself\u001b[39;49m\u001b[38;5;241;43m.\u001b[39;49m\u001b[43m_getitem_iterable\u001b[49m\u001b[43m(\u001b[49m\u001b[43mkey\u001b[49m\u001b[43m,\u001b[49m\u001b[43m \u001b[49m\u001b[43maxis\u001b[49m\u001b[38;5;241;43m=\u001b[39;49m\u001b[43maxis\u001b[49m\u001b[43m)\u001b[49m\n\u001b[1;32m   1303\u001b[0m \u001b[38;5;66;03m# nested tuple slicing\u001b[39;00m\n\u001b[1;32m   1304\u001b[0m \u001b[38;5;28;01mif\u001b[39;00m is_nested_tuple(key, labels):\n",
      "File \u001b[0;32m/Library/Frameworks/Python.framework/Versions/3.10/lib/python3.10/site-packages/pandas/core/indexing.py:1239\u001b[0m, in \u001b[0;36m_LocIndexer._getitem_iterable\u001b[0;34m(self, key, axis)\u001b[0m\n\u001b[1;32m   1236\u001b[0m \u001b[38;5;28mself\u001b[39m\u001b[38;5;241m.\u001b[39m_validate_key(key, axis)\n\u001b[1;32m   1238\u001b[0m \u001b[38;5;66;03m# A collection of keys\u001b[39;00m\n\u001b[0;32m-> 1239\u001b[0m keyarr, indexer \u001b[38;5;241m=\u001b[39m \u001b[38;5;28;43mself\u001b[39;49m\u001b[38;5;241;43m.\u001b[39;49m\u001b[43m_get_listlike_indexer\u001b[49m\u001b[43m(\u001b[49m\u001b[43mkey\u001b[49m\u001b[43m,\u001b[49m\u001b[43m \u001b[49m\u001b[43maxis\u001b[49m\u001b[43m)\u001b[49m\n\u001b[1;32m   1240\u001b[0m \u001b[38;5;28;01mreturn\u001b[39;00m \u001b[38;5;28mself\u001b[39m\u001b[38;5;241m.\u001b[39mobj\u001b[38;5;241m.\u001b[39m_reindex_with_indexers(\n\u001b[1;32m   1241\u001b[0m     {axis: [keyarr, indexer]}, copy\u001b[38;5;241m=\u001b[39m\u001b[38;5;28;01mTrue\u001b[39;00m, allow_dups\u001b[38;5;241m=\u001b[39m\u001b[38;5;28;01mTrue\u001b[39;00m\n\u001b[1;32m   1242\u001b[0m )\n",
      "File \u001b[0;32m/Library/Frameworks/Python.framework/Versions/3.10/lib/python3.10/site-packages/pandas/core/indexing.py:1432\u001b[0m, in \u001b[0;36m_LocIndexer._get_listlike_indexer\u001b[0;34m(self, key, axis)\u001b[0m\n\u001b[1;32m   1429\u001b[0m ax \u001b[38;5;241m=\u001b[39m \u001b[38;5;28mself\u001b[39m\u001b[38;5;241m.\u001b[39mobj\u001b[38;5;241m.\u001b[39m_get_axis(axis)\n\u001b[1;32m   1430\u001b[0m axis_name \u001b[38;5;241m=\u001b[39m \u001b[38;5;28mself\u001b[39m\u001b[38;5;241m.\u001b[39mobj\u001b[38;5;241m.\u001b[39m_get_axis_name(axis)\n\u001b[0;32m-> 1432\u001b[0m keyarr, indexer \u001b[38;5;241m=\u001b[39m \u001b[43max\u001b[49m\u001b[38;5;241;43m.\u001b[39;49m\u001b[43m_get_indexer_strict\u001b[49m\u001b[43m(\u001b[49m\u001b[43mkey\u001b[49m\u001b[43m,\u001b[49m\u001b[43m \u001b[49m\u001b[43maxis_name\u001b[49m\u001b[43m)\u001b[49m\n\u001b[1;32m   1434\u001b[0m \u001b[38;5;28;01mreturn\u001b[39;00m keyarr, indexer\n",
      "File \u001b[0;32m/Library/Frameworks/Python.framework/Versions/3.10/lib/python3.10/site-packages/pandas/core/indexes/base.py:6070\u001b[0m, in \u001b[0;36mIndex._get_indexer_strict\u001b[0;34m(self, key, axis_name)\u001b[0m\n\u001b[1;32m   6067\u001b[0m \u001b[38;5;28;01melse\u001b[39;00m:\n\u001b[1;32m   6068\u001b[0m     keyarr, indexer, new_indexer \u001b[38;5;241m=\u001b[39m \u001b[38;5;28mself\u001b[39m\u001b[38;5;241m.\u001b[39m_reindex_non_unique(keyarr)\n\u001b[0;32m-> 6070\u001b[0m \u001b[38;5;28;43mself\u001b[39;49m\u001b[38;5;241;43m.\u001b[39;49m\u001b[43m_raise_if_missing\u001b[49m\u001b[43m(\u001b[49m\u001b[43mkeyarr\u001b[49m\u001b[43m,\u001b[49m\u001b[43m \u001b[49m\u001b[43mindexer\u001b[49m\u001b[43m,\u001b[49m\u001b[43m \u001b[49m\u001b[43maxis_name\u001b[49m\u001b[43m)\u001b[49m\n\u001b[1;32m   6072\u001b[0m keyarr \u001b[38;5;241m=\u001b[39m \u001b[38;5;28mself\u001b[39m\u001b[38;5;241m.\u001b[39mtake(indexer)\n\u001b[1;32m   6073\u001b[0m \u001b[38;5;28;01mif\u001b[39;00m \u001b[38;5;28misinstance\u001b[39m(key, Index):\n\u001b[1;32m   6074\u001b[0m     \u001b[38;5;66;03m# GH 42790 - Preserve name from an Index\u001b[39;00m\n",
      "File \u001b[0;32m/Library/Frameworks/Python.framework/Versions/3.10/lib/python3.10/site-packages/pandas/core/indexes/base.py:6130\u001b[0m, in \u001b[0;36mIndex._raise_if_missing\u001b[0;34m(self, key, indexer, axis_name)\u001b[0m\n\u001b[1;32m   6128\u001b[0m     \u001b[38;5;28;01mif\u001b[39;00m use_interval_msg:\n\u001b[1;32m   6129\u001b[0m         key \u001b[38;5;241m=\u001b[39m \u001b[38;5;28mlist\u001b[39m(key)\n\u001b[0;32m-> 6130\u001b[0m     \u001b[38;5;28;01mraise\u001b[39;00m \u001b[38;5;167;01mKeyError\u001b[39;00m(\u001b[38;5;124mf\u001b[39m\u001b[38;5;124m\"\u001b[39m\u001b[38;5;124mNone of [\u001b[39m\u001b[38;5;132;01m{\u001b[39;00mkey\u001b[38;5;132;01m}\u001b[39;00m\u001b[38;5;124m] are in the [\u001b[39m\u001b[38;5;132;01m{\u001b[39;00maxis_name\u001b[38;5;132;01m}\u001b[39;00m\u001b[38;5;124m]\u001b[39m\u001b[38;5;124m\"\u001b[39m)\n\u001b[1;32m   6132\u001b[0m not_found \u001b[38;5;241m=\u001b[39m \u001b[38;5;28mlist\u001b[39m(ensure_index(key)[missing_mask\u001b[38;5;241m.\u001b[39mnonzero()[\u001b[38;5;241m0\u001b[39m]]\u001b[38;5;241m.\u001b[39munique())\n\u001b[1;32m   6133\u001b[0m \u001b[38;5;28;01mraise\u001b[39;00m \u001b[38;5;167;01mKeyError\u001b[39;00m(\u001b[38;5;124mf\u001b[39m\u001b[38;5;124m\"\u001b[39m\u001b[38;5;132;01m{\u001b[39;00mnot_found\u001b[38;5;132;01m}\u001b[39;00m\u001b[38;5;124m not in index\u001b[39m\u001b[38;5;124m\"\u001b[39m)\n",
      "\u001b[0;31mKeyError\u001b[0m: \"None of [Int64Index([1172], dtype='int64')] are in the [index]\""
     ]
    }
   ],
   "source": [
    "import sys\n",
    "from matplotlib import pyplot as plt\n",
    "from modAL.models import ActiveLearner\n",
    "from sklearn.svm import SVC\n",
    "\n",
    "pd.set_option('display.max_columns', None)  \n",
    "pd.set_option('display.max_colwidth', None)  \n",
    "\n",
    "# initializing the learner\n",
    "learner = ActiveLearner(\n",
    "    estimator=SVC(kernel='linear',  probability=True),\n",
    "    X_training=X_training, y_training=y_training,\n",
    "    bootstrap_init=True\n",
    ")\n",
    "\n",
    "learner.fit(X_training, y_training)\n",
    "\n",
    "# query for labels\n",
    "n_queries = 5\n",
    "accuracy_scores = [learner.score(evaluation_x, evaluation_y)]\n",
    "for idx in range(n_queries):\n",
    "    # Query for labels from the pool of unlabeled instances\n",
    "    query_idx, query_instance = learner.query(X_pool)\n",
    "    \n",
    "    # Obtain new labels for the queried instances\n",
    "    print(embeddings_unlabeled.loc[query_idx]['combined_text'])\n",
    "    sys.stdout.flush()\n",
    "    # Get the label from the human annotator\n",
    "    while True:\n",
    "        user_input = input(\"Enter the label (0, 1, 2): \")\n",
    "        try:\n",
    "            label = int(user_input)\n",
    "            if label in [0, 1, 2]:\n",
    "                break\n",
    "            else:\n",
    "                print(\"Label must be one of the following: 0, 1, 2\")\n",
    "        except ValueError:\n",
    "            print(\"Invalid input. Please enter a numeric value.\")\n",
    "    query_idx = np.array(query_idx, dtype=int)\n",
    "    \n",
    "    # Update Y_pool with new labels\n",
    "    Y_pool[query_idx] = label\n",
    "    \n",
    "    # Supply labels for queried instances\n",
    "    learner.teach(X_pool[query_idx], Y_pool[query_idx], bootstrap=True)\n",
    "\n",
    "    accuracy_scores.append(learner.score(evaluation_x, evaluation_y))\n",
    "    print(accuracy_scores)\n",
    "\n",
    "with plt.style.context('seaborn-white'):\n",
    "    plt.figure(figsize=(10, 5))\n",
    "    plt.title('Accuracy of the classifier during the active learning')\n",
    "    plt.plot(range(n_queries+1), accuracy_scores)\n",
    "    plt.scatter(range(n_queries+1), accuracy_scores)\n",
    "    plt.xlabel('number of queries')\n",
    "    plt.ylabel('accuracy')\n",
    "    plt.show()\n",
    "\n",
    "accuracy_df = pd.DataFrame(accuracy_scores)\n",
    "accuracy_df.to_csv('unbalanced_SVM.csv', index=False)"
   ]
  }
 ],
 "metadata": {
  "kernelspec": {
   "display_name": "Python 3",
   "language": "python",
   "name": "python3"
  },
  "language_info": {
   "codemirror_mode": {
    "name": "ipython",
    "version": 3
   },
   "file_extension": ".py",
   "mimetype": "text/x-python",
   "name": "python",
   "nbconvert_exporter": "python",
   "pygments_lexer": "ipython3",
   "version": "3.12.2"
  }
 },
 "nbformat": 4,
 "nbformat_minor": 2
}
