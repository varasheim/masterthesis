{
 "cells": [
  {
   "cell_type": "code",
   "execution_count": null,
   "metadata": {},
   "outputs": [],
   "source": [
    "#imports\n",
    "from matplotlib import pyplot as plt\n",
    "from tensorflow import keras\n",
    "import pickle\n",
    "from tensorflow.keras.models import Sequential\n",
    "from tensorflow.keras.layers import Dense, Dropout\n",
    "import numpy as np\n",
    "from tensorflow.keras.optimizers import Adam\n",
    "from sklearn.metrics import accuracy_score, ConfusionMatrixDisplay, confusion_matrix, precision_recall_fscore_support"
   ]
  },
  {
   "cell_type": "code",
   "execution_count": null,
   "metadata": {},
   "outputs": [],
   "source": [
    "#load SMHD files. Replace filenames. \n",
    "with open('evaluation-x-smhd', 'rb') as file:\n",
    "    evaluation_x = pickle.load(file)\n",
    "\n",
    "with open('evaluation-y-smhd', 'rb') as file:\n",
    "    evaluation_y = pickle.load(file)\n",
    "\n",
    "with open('x-training-smhd', 'rb') as file:\n",
    "    X_training = pickle.load(file)\n",
    "\n",
    "with open('y-training-smhd', 'rb') as file:\n",
    "    y_training = pickle.load(file) "
   ]
  },
  {
   "cell_type": "code",
   "execution_count": null,
   "metadata": {},
   "outputs": [],
   "source": [
    "#making the arrays into lists to use as input in model\n",
    "x_train_array= np.array(X_training.values.tolist())\n",
    "x_test_array= np.array(evaluation_x.values.tolist())\n",
    "y_train_array= np.array(y_training.values.tolist())\n",
    "y_test_array= np.array(evaluation_y.values.tolist())"
   ]
  },
  {
   "cell_type": "code",
   "execution_count": null,
   "metadata": {},
   "outputs": [],
   "source": [
    "#creating the model with layers\n",
    "input_shape = (1000,)\n",
    "\n",
    "ann_model = Sequential([\n",
    "    Dense(1000, input_shape=input_shape, activation='relu'),\n",
    "    Dense(500, activation='relu'),\n",
    "    Dropout(0.2),\n",
    "    Dense(2, activation='softmax'),\n",
    "])"
   ]
  },
  {
   "cell_type": "code",
   "execution_count": null,
   "metadata": {},
   "outputs": [],
   "source": [
    "#compiling the model and setting the learning rate and loss function\n",
    "ann_model.compile(optimizer=Adam(learning_rate=0.005), \n",
    "              loss=keras.losses.SparseCategoricalCrossentropy(), \n",
    "              metrics=['accuracy']) #calculating accuracy during training\n",
    "  \n",
    "#fitting the model with training data. \n",
    "ann_model.fit(x_train_array, y_train_array, epochs=10, batch_size=32, validation_data=(x_test_array, y_test_array))"
   ]
  },
  {
   "cell_type": "code",
   "execution_count": null,
   "metadata": {},
   "outputs": [],
   "source": [
    "#evaluating model\n",
    "ann_model.evaluate(evaluation_x, evaluation_y, batch_size=64)"
   ]
  },
  {
   "cell_type": "code",
   "execution_count": null,
   "metadata": {},
   "outputs": [],
   "source": [
    "#evaluating predictions on test dataset\n",
    "\n",
    "predictions = ann_model.predict(x_test_array)\n",
    "predicted_labels = np.argmax(predictions, axis=1)\n",
    "accuracy = accuracy_score(y_test_array, predicted_labels)\n",
    "precision, recall1, f1, _ = precision_recall_fscore_support(y_test_array, predicted_labels, average='weighted')\n",
    "\n",
    "print('Accuracy:', accuracy)\n",
    "print(f'Precision: {precision:.2f}')\n",
    "print('Recall1:', recall1)\n",
    "print(f'F1 Score: {f1:.2f}')\n",
    "\n",
    "#creating the confusion matrix\n",
    "cm = confusion_matrix(y_test_array, predicted_labels)\n",
    "disp = ConfusionMatrixDisplay(confusion_matrix=cm, display_labels=np.unique(y_test_array))\n",
    "disp.plot(cmap='Blues', values_format='d')\n",
    "plt.show()\n"
   ]
  }
 ],
 "metadata": {
  "kernelspec": {
   "display_name": "Python 3",
   "language": "python",
   "name": "python3"
  },
  "language_info": {
   "codemirror_mode": {
    "name": "ipython",
    "version": 3
   },
   "file_extension": ".py",
   "mimetype": "text/x-python",
   "name": "python",
   "nbconvert_exporter": "python",
   "pygments_lexer": "ipython3",
   "version": "3.10.0"
  }
 },
 "nbformat": 4,
 "nbformat_minor": 2
}
