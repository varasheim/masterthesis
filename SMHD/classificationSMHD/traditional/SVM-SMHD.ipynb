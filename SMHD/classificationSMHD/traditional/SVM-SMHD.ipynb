{
 "cells": [
  {
   "cell_type": "code",
   "execution_count": null,
   "metadata": {},
   "outputs": [],
   "source": [
    "#imports\n",
    "import numpy as np\n",
    "import pickle\n",
    "from matplotlib import pyplot as plt\n",
    "from sklearn import svm\n",
    "from sklearn.metrics import accuracy_score, confusion_matrix, precision_recall_fscore_support, ConfusionMatrixDisplay"
   ]
  },
  {
   "cell_type": "code",
   "execution_count": null,
   "metadata": {},
   "outputs": [],
   "source": [
    "#load data here from SMHD Dataset embedded. Replace filenames.\n",
    "\n",
    "with open('evaluation-x-smhd', 'rb') as file:\n",
    "    evaluation_x = pickle.load(file)\n",
    "\n",
    "with open('evaluation-y-smhd', 'rb') as file:\n",
    "    evaluation_y = pickle.load(file)\n",
    "\n",
    "with open('x-training-smhd', 'rb') as file:\n",
    "    X_training = pickle.load(file)\n",
    "\n",
    "with open('y-training-smhd', 'rb') as file:\n",
    "    y_training = pickle.load(file) "
   ]
  },
  {
   "cell_type": "code",
   "execution_count": null,
   "metadata": {},
   "outputs": [],
   "source": [
    "#create lists\n",
    "x_train = []\n",
    "for x in X_training:\n",
    "    x_train.append(x)\n",
    "\n",
    "x_test = []\n",
    "for x in evaluation_x:\n",
    "    x_test.append(x)\n",
    "\n",
    "y_train = []\n",
    "for y in y_training:\n",
    "    y_train.append(y)\n",
    "\n",
    "y_test = []\n",
    "for y in evaluation_y:\n",
    "    y_test.append(y)"
   ]
  },
  {
   "cell_type": "code",
   "execution_count": null,
   "metadata": {},
   "outputs": [],
   "source": [
    "#linear SVM model\n",
    "model = svm.SVC(kernel='linear') \n",
    "\n",
    "model.fit(x_train, y_train) #fit model with training data\n",
    "\n",
    "predictions = model.predict(x_test) #get predictions\n",
    "\n",
    "\n",
    "#evaluation of predictions for test dataset\n",
    "accuracy = accuracy_score(evaluation_y, predictions)\n",
    "precision, recall, f1, _ = precision_recall_fscore_support(evaluation_y, predictions, average='weighted')\n",
    "\n",
    "\n",
    "print(f\"Accuracy: {accuracy:.2f}\")\n",
    "print(f'Precision: {precision:.2f}')\n",
    "print(f'Recall: {recall:.2f}')\n",
    "print(f'F1 Score: {f1:.2f}')\n",
    "\n",
    "#Create the confusion matrix\n",
    "cm = confusion_matrix(y_test, predictions)\n",
    "print(\"Confusion Matrix:\", cm)\n",
    "disp = ConfusionMatrixDisplay(confusion_matrix=cm, display_labels=np.unique(y_test))\n",
    "disp.plot(cmap='Blues', values_format='d')\n",
    "plt.show()"
   ]
  },
  {
   "cell_type": "code",
   "execution_count": null,
   "metadata": {},
   "outputs": [],
   "source": [
    "#nonlinear SVM classifier with RBF kernel\n",
    "model = svm.SVC(kernel = 'rbf')\n",
    "\n",
    "model.fit(x_train, y_train) #fit model with training data\n",
    "\n",
    "predictions = model.predict(x_test) #get predictions\n",
    "\n",
    "#evaluation\n",
    "accuracy = accuracy_score(evaluation_y, predictions)\n",
    "precision, recall, f1, _ = precision_recall_fscore_support(evaluation_y, predictions, average='weighted')\n",
    "\n",
    "\n",
    "print(f\"Accuracy: {accuracy:.2f}\")\n",
    "print(f'Precision: {precision:.2f}')\n",
    "print(f'Recall: {recall:.2f}')\n",
    "print(f'F1 Score: {f1:.2f}')\n",
    "\n",
    "#Create the confusion matrix\n",
    "cm = confusion_matrix(y_test, predictions)\n",
    "print(\"Confusion Matrix:\", cm)\n",
    "disp = ConfusionMatrixDisplay(confusion_matrix=cm, display_labels=np.unique(y_test))\n",
    "disp.plot(cmap='Blues', values_format='d')\n",
    "plt.show()"
   ]
  }
 ],
 "metadata": {
  "kernelspec": {
   "display_name": "Python 3",
   "language": "python",
   "name": "python3"
  },
  "language_info": {
   "codemirror_mode": {
    "name": "ipython",
    "version": 3
   },
   "file_extension": ".py",
   "mimetype": "text/x-python",
   "name": "python",
   "nbconvert_exporter": "python",
   "pygments_lexer": "ipython3",
   "version": "3.10.0"
  }
 },
 "nbformat": 4,
 "nbformat_minor": 2
}
