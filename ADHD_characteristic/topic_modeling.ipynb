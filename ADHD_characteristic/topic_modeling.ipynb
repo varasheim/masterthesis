{
 "cells": [
  {
   "cell_type": "markdown",
   "metadata": {},
   "source": [
    "Topic modeling full dataset"
   ]
  },
  {
   "cell_type": "code",
   "execution_count": null,
   "metadata": {},
   "outputs": [],
   "source": [
    "from sklearn.feature_extraction.text import CountVectorizer, TfidfVectorizer\n",
    "from sklearn.decomposition import LatentDirichletAllocation\n",
    "import pandas as pd\n",
    "\n",
    "df = pd.read_csv(\"redditADHD2012_preprocessed.csv\")\n",
    "documents = df['processed_text'] \n",
    "\n",
    "# Vectorize text data\n",
    "tfidf_vectorizer = TfidfVectorizer(max_df=0.95, min_df=2, stop_words='english')\n",
    "dtm_tfidf = tfidf_vectorizer.fit_transform(documents)\n",
    "\n",
    "#Apply LDA\n",
    "n_components = 5  #number of topics you to extract\n",
    "lda = LatentDirichletAllocation(n_components=n_components, random_state=0)\n",
    "lda.fit(dtm_tfidf)\n",
    "\n",
    "def display_topics(model, feature_names, no_top_words):\n",
    "    for topic_idx, topic in enumerate(model.components_):\n",
    "        print(\"Topic %d:\" % (topic_idx))\n",
    "        print(\" \".join([feature_names[i] for i in topic.argsort()[:-no_top_words - 1:-1]]))\n",
    "\n",
    "no_top_words = 10\n",
    "tf_feature_names = tfidf_vectorizer.get_feature_names_out()\n",
    "display_topics(lda, tf_feature_names, no_top_words)"
   ]
  },
  {
   "cell_type": "markdown",
   "metadata": {},
   "source": [
    "Topic modeling each label"
   ]
  },
  {
   "cell_type": "code",
   "execution_count": null,
   "metadata": {},
   "outputs": [],
   "source": [
    "def perform_lda_on_label(dataframe, label, n_topics=5, n_words=10):\n",
    "    print(f\"\\nTopics for Label: {label}\")\n",
    "    documents = dataframe[dataframe['label'] == label]['processed_text']\n",
    "    \n",
    "    # Vectorize text data\n",
    "    tfidf_vectorizer = TfidfVectorizer(max_df=0.95, min_df=2, stop_words='english')\n",
    "    dtm_tfidf = tfidf_vectorizer.fit_transform(documents)\n",
    "    \n",
    "    # Apply LDA\n",
    "    lda = LatentDirichletAllocation(n_components=n_topics, random_state=0)\n",
    "    lda.fit(dtm_tfidf)\n",
    "    \n",
    "    # Print topics\n",
    "    tf_feature_names = tfidf_vectorizer.get_feature_names_out()\n",
    "    for topic_idx, topic in enumerate(lda.components_):\n",
    "        message = \"Topic #%d: \" % topic_idx\n",
    "        message += \" \".join([tf_feature_names[i] for i in topic.argsort()[:-n_words - 1:-1]])\n",
    "        print(message)\n",
    "\n",
    "labels = [0, 1, 2]\n",
    "\n",
    "for label in labels:\n",
    "    perform_lda_on_label(df, label, n_topics=5, n_words=5)"
   ]
  }
 ],
 "metadata": {
  "kernelspec": {
   "display_name": "Python 3",
   "language": "python",
   "name": "python3"
  },
  "language_info": {
   "codemirror_mode": {
    "name": "ipython",
    "version": 3
   },
   "file_extension": ".py",
   "mimetype": "text/x-python",
   "name": "python",
   "nbconvert_exporter": "python",
   "pygments_lexer": "ipython3",
   "version": "3.12.2"
  }
 },
 "nbformat": 4,
 "nbformat_minor": 2
}
