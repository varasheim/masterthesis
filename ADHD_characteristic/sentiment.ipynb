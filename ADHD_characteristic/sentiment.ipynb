{
 "cells": [
  {
   "cell_type": "code",
   "execution_count": null,
   "metadata": {},
   "outputs": [],
   "source": [
    "import pandas as pd\n",
    "from textblob import TextBlob\n",
    "\n",
    "df = pd.read_csv(\"redditADHD2012_preprocessed.csv\")\n",
    "documents = df['processed_text']\n",
    "\n",
    "def analyze_sentiment(text):\n",
    "    return TextBlob(text).sentiment\n",
    "df['sentiment'] = documents.apply(analyze_sentiment)"
   ]
  },
  {
   "cell_type": "markdown",
   "metadata": {},
   "source": [
    "Sentiment scores"
   ]
  },
  {
   "cell_type": "code",
   "execution_count": null,
   "metadata": {},
   "outputs": [],
   "source": [
    "average_polarity = df['sentiment'].apply(lambda x: x.polarity).mean()\n",
    "average_subjectivity = df['sentiment'].apply(lambda x: x.subjectivity).mean()\n",
    "\n",
    "print(f\"Average Polarity: {average_polarity}\")\n",
    "print(f\"Average Subjectivity: {average_subjectivity}\")"
   ]
  },
  {
   "cell_type": "markdown",
   "metadata": {},
   "source": [
    "Categorizing Sentiments Overall"
   ]
  },
  {
   "cell_type": "code",
   "execution_count": null,
   "metadata": {},
   "outputs": [],
   "source": [
    "def sentiment_category(polarity):\n",
    "    if polarity > 0:\n",
    "        return 'Positive'\n",
    "    elif polarity == 0:\n",
    "        return 'Neutral'\n",
    "    else:\n",
    "        return 'Negative'\n",
    "\n",
    "df['sentiment_category'] = df['polarity'].apply(sentiment_category)\n",
    "print(df['sentiment_category'].value_counts())\n",
    "\n",
    "overall_counts = df['sentiment_category'].value_counts()\n",
    "overall_percentages = (overall_counts / overall_counts.sum()) * 100\n",
    "print(\"Overall Sentiment Distribution Percentages:\\n\", overall_percentages)\n"
   ]
  },
  {
   "cell_type": "markdown",
   "metadata": {},
   "source": [
    "Categorizing Sentiments per label"
   ]
  },
  {
   "cell_type": "code",
   "execution_count": null,
   "metadata": {},
   "outputs": [],
   "source": [
    "df['sentiment_category'] = df['polarity'].apply(sentiment_category)\n",
    "\n",
    "grouped_sentiment = df.groupby(['label', 'sentiment_category']).size().unstack(fill_value=0)\n",
    "print(grouped_sentiment)\n",
    "\n",
    "group_counts = df.groupby(['label', 'sentiment_category']).size().unstack(fill_value=0)\n",
    "group_percentages = group_counts.div(group_counts.sum(axis=1), axis=0) * 100\n",
    "print(group_percentages)"
   ]
  },
  {
   "cell_type": "markdown",
   "metadata": {},
   "source": [
    "Plotting"
   ]
  }
 ],
 "metadata": {
  "kernelspec": {
   "display_name": "Python 3",
   "language": "python",
   "name": "python3"
  },
  "language_info": {
   "codemirror_mode": {
    "name": "ipython",
    "version": 3
   },
   "file_extension": ".py",
   "mimetype": "text/x-python",
   "name": "python",
   "nbconvert_exporter": "python",
   "pygments_lexer": "ipython3",
   "version": "3.12.2"
  }
 },
 "nbformat": 4,
 "nbformat_minor": 2
}
