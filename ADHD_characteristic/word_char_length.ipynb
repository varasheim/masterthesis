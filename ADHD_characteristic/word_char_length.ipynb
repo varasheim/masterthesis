{
 "cells": [
  {
   "cell_type": "markdown",
   "metadata": {},
   "source": [
    "Retrive data"
   ]
  },
  {
   "cell_type": "code",
   "execution_count": null,
   "metadata": {},
   "outputs": [],
   "source": [
    "import pandas as pd\n",
    "import matplotlib.pyplot as plt\n",
    "\n",
    "df = pd.read_csv(\"redditADHD2012_preprocessed.csv\")\n",
    "print(df.head)"
   ]
  },
  {
   "cell_type": "markdown",
   "metadata": {},
   "source": [
    "Average post lengths in number of words for each label"
   ]
  },
  {
   "cell_type": "code",
   "execution_count": null,
   "metadata": {},
   "outputs": [],
   "source": [
    "df['word_count'] = df['combined_text'].apply(lambda x: len(x.split()))\n",
    "\n",
    "bins = list(range(0, 850, 50))\n",
    "labels = [f'{i+50}' for i in bins[:-1]]\n",
    "\n",
    "df['word_count_bin'] = pd.cut(df['word_count'], bins=bins, labels=labels, right=False)\n",
    "\n",
    "word_count_percentage = (df.groupby(['label', 'word_count_bin'])\n",
    "                         .size()\n",
    "                         .groupby(level=0)\n",
    "                         .apply(lambda x: 100 * x / float(x.sum()))\n",
    "                         .reset_index(name='percentage'))\n",
    "\n",
    "word_count_pivot = word_count_percentage.pivot(index='word_count_bin', columns='label', values='percentage').fillna(0)\n"
   ]
  },
  {
   "cell_type": "markdown",
   "metadata": {},
   "source": [
    "Plot"
   ]
  },
  {
   "cell_type": "code",
   "execution_count": null,
   "metadata": {},
   "outputs": [],
   "source": [
    "colors = [\"#7eb0d5\", \"#fd7f6f\", \"#b2e061\"]\n",
    "fig, ax = plt.subplots(figsize=(14, 7))\n",
    "word_count_pivot.plot(kind='bar', ax=ax, color=colors)\n",
    "\n",
    "plt.xlabel('Word Count', fontsize=14)\n",
    "plt.ylabel('Percentage of Posts', fontsize=14)\n",
    "plt.legend(title='Label', labels=['Neutral', 'Self-diagnosis', 'Self-medication'], fontsize=12)\n",
    "\n",
    "ax.set_xticks(range(len(labels)))\n",
    "ax.set_xticklabels(labels, rotation=90)\n",
    "ax.set_xlim(left=-1, right=len(labels))\n",
    "\n",
    "plt.tight_layout()\n",
    "\n",
    "plt.grid(axis='y', linestyle='--', alpha=0.7)\n",
    "\n",
    "# Show the plot\n",
    "plt.show()"
   ]
  },
  {
   "cell_type": "markdown",
   "metadata": {},
   "source": [
    "Max word count, word mean and cutoff for max word count"
   ]
  },
  {
   "cell_type": "code",
   "execution_count": null,
   "metadata": {},
   "outputs": [],
   "source": [
    "max_word_count = df['word_count'].max()\n",
    "mean_word_count = df['word_count'].mean()\n",
    "\n",
    "total_count_per_bin = df['word_count_bin'].value_counts(sort=False)\n",
    "cumulative_percentage = total_count_per_bin.cumsum() / total_count_per_bin.sum() * 100\n",
    "cutoff_bin = cumulative_percentage[cumulative_percentage >= 99].index[0] if any(cumulative_percentage >= 99) else None\n",
    "max_word_count, mean_word_count, cutoff_bin\n"
   ]
  },
  {
   "cell_type": "markdown",
   "metadata": {},
   "source": [
    "Average post lengths in number of characters for each label"
   ]
  },
  {
   "cell_type": "code",
   "execution_count": null,
   "metadata": {},
   "outputs": [],
   "source": [
    "df['char_count'] = df['combined_text'].apply(lambda x: len(x))\n",
    "bins = list(range(0, 4250, 250))\n",
    "\n",
    "labels = [f'{i+250}' for i in bins[:-1]]\n",
    "\n",
    "df['char_count_bin'] = pd.cut(df['char_count'], bins=bins, labels=labels, right=False)\n",
    "\n",
    "char_count_percentage = (df.groupby(['label', 'char_count_bin'])\n",
    "                         .size()\n",
    "                         .groupby(level=0)\n",
    "                         .apply(lambda x: 100 * x / float(x.sum()))\n",
    "                         .reset_index(name='percentage'))\n",
    "\n",
    "char_count_pivot = char_count_percentage.pivot(index='char_count_bin', columns='label', values='percentage').fillna(0) "
   ]
  },
  {
   "cell_type": "markdown",
   "metadata": {},
   "source": [
    "Plot"
   ]
  },
  {
   "cell_type": "code",
   "execution_count": null,
   "metadata": {},
   "outputs": [],
   "source": [
    "colors = [\"#7eb0d5\", \"#fd7f6f\", \"#b2e061\"]\n",
    "\n",
    "fig, ax = plt.subplots(figsize=(14, 7))\n",
    "char_count_pivot.plot(kind='bar', ax=ax, color=colors)\n",
    "\n",
    "plt.xlabel('Character Count', fontsize=14)\n",
    "plt.ylabel('Percentage of Posts', fontsize=14)\n",
    "plt.legend(title='Label', labels=['Neutral', 'Self-diagnosis', 'Self-medication'], fontsize=12)\n",
    "\n",
    "ax.set_xticks(range(len(labels)))\n",
    "ax.set_xticklabels(labels, rotation=90)\n",
    "ax.set_xlim(left=-1, right=len(labels))\n",
    "\n",
    "plt.tight_layout()\n",
    "plt.grid(axis='y', linestyle='--', alpha=0.7)\n",
    "plt.show()"
   ]
  },
  {
   "cell_type": "markdown",
   "metadata": {},
   "source": [
    "Max char count, char mean and cutoff for char word count"
   ]
  },
  {
   "cell_type": "code",
   "execution_count": null,
   "metadata": {},
   "outputs": [],
   "source": [
    "max_char_count = df['char_count'].max()\n",
    "mean_char_count = df['char_count'].mean()\n",
    "\n",
    "total_count_per_char_bin = df['char_count_bin'].value_counts(sort=False)\n",
    "cumulative_percentage = total_count_per_char_bin.cumsum() / total_count_per_char_bin.sum() * 100\n",
    "cutoff_char_bin = cumulative_percentage[cumulative_percentage >= 99].index[0] if any(cumulative_percentage >= 99) else None\n",
    "\n",
    "max_char_count, mean_char_count, cutoff_char_bin\n"
   ]
  },
  {
   "cell_type": "markdown",
   "metadata": {},
   "source": []
  }
 ],
 "metadata": {
  "kernelspec": {
   "display_name": "Python 3",
   "language": "python",
   "name": "python3"
  },
  "language_info": {
   "codemirror_mode": {
    "name": "ipython",
    "version": 3
   },
   "file_extension": ".py",
   "mimetype": "text/x-python",
   "name": "python",
   "nbconvert_exporter": "python",
   "pygments_lexer": "ipython3",
   "version": "3.12.2"
  }
 },
 "nbformat": 4,
 "nbformat_minor": 2
}
