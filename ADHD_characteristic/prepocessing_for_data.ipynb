{
 "cells": [
  {
   "cell_type": "code",
   "execution_count": 2,
   "metadata": {},
   "outputs": [],
   "source": [
    "import pandas as pd\n",
    "import spacy\n",
    "import string\n",
    "\n",
    "nlp = spacy.load(\"en_core_web_sm\")\n",
    "\n",
    "def preprocess_text(text):\n",
    "    doc = nlp(text.lower()) \n",
    "    result = []\n",
    "    for token in doc:\n",
    "        if token.is_stop or token.text in string.punctuation:\n",
    "            continue\n",
    "        if token.lemma_ != \"-PRON-\":\n",
    "            result.append(token.lemma_)\n",
    "        else:\n",
    "            result.append(token.lower_)\n",
    "    return \" \".join(result)\n",
    "\n",
    "# Load the dataset\n",
    "df = pd.read_csv(\"redditADHD2012.csv\")\n",
    "\n",
    "# Preprocess the text in the 'combined_text' column\n",
    "df['processed_text'] = df['combined_text'].apply(preprocess_text)\n",
    "\n",
    "# Save the DataFrame with the processed text to a new CSV file\n",
    "df.to_csv(\"redditADHD2012_preprocessed\", index=False)\n"
   ]
  }
 ],
 "metadata": {
  "kernelspec": {
   "display_name": "Python 3",
   "language": "python",
   "name": "python3"
  },
  "language_info": {
   "codemirror_mode": {
    "name": "ipython",
    "version": 3
   },
   "file_extension": ".py",
   "mimetype": "text/x-python",
   "name": "python",
   "nbconvert_exporter": "python",
   "pygments_lexer": "ipython3",
   "version": "3.12.2"
  }
 },
 "nbformat": 4,
 "nbformat_minor": 2
}
