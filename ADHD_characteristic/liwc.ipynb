{
 "cells": [
  {
   "cell_type": "code",
   "execution_count": null,
   "metadata": {},
   "outputs": [],
   "source": [
    "import pandas as pd\n",
    "\n",
    "# Load LIWC results\n",
    "liwc_results = pd.read_csv('liwcresults.csv')\n",
    "\n",
    "# Separate LIWC coluns\n",
    "non_liwc_columns = ['combined_text', 'label']  \n",
    "liwc_categories = [col for col in liwc_results.columns if col not in non_liwc_columns]\n"
   ]
  },
  {
   "cell_type": "code",
   "execution_count": null,
   "metadata": {},
   "outputs": [],
   "source": [
    "# Analysis based on labels\n",
    "label_counts = liwc_results['label'].value_counts()\n",
    "print(\"Label distribution:\")\n",
    "print(label_counts)\n",
    "\n",
    "grouped_means = liwc_results.groupby('label').mean()\n",
    "print(\"Mean values of LIWC categories by label:\")\n",
    "print(grouped_means)\n",
    "\n",
    "category_means = liwc_results.groupby('label')[liwc_categories].mean()\n",
    "print(\"Mean values of selected LIWC categories by label:\")\n",
    "print(category_means)"
   ]
  },
  {
   "cell_type": "code",
   "execution_count": null,
   "metadata": {},
   "outputs": [],
   "source": [
    "#Finding top 10 categories for each label\n",
    "def get_top_10_categories(grouped_means, label):\n",
    "    label_means = grouped_means.loc[label]\n",
    "    top_10 = label_means.sort_values(ascending=False).head(10)\n",
    "    return top_10\n",
    "\n",
    "top_10_label_0 = get_top_10_categories(grouped_means, 0)\n",
    "top_10_label_1 = get_top_10_categories(grouped_means, 1)\n",
    "top_10_label_2 = get_top_10_categories(grouped_means, 2)\n",
    "\n",
    "all_top_categories = pd.Index(top_10_label_0.index).union(top_10_label_1.index).union(top_10_label_2.index)\n",
    "\n",
    "combined_df = pd.DataFrame(index=all_top_categories, columns=['Label 0', 'Label 1', 'Label 2'])\n",
    "\n",
    "combined_df['Label 0'] = grouped_means.loc[0, combined_df.index].fillna(0)\n",
    "combined_df['Label 1'] = grouped_means.loc[1, combined_df.index].fillna(0)\n",
    "combined_df['Label 2'] = grouped_means.loc[2, combined_df.index].fillna(0)\n",
    "\n",
    "print(\"Top LIWC Categories for Each Label\")\n",
    "print(combined_df)\n",
    "\n",
    "# Plot for the combined top categories for each label\n",
    "combined_df.plot(kind='bar', figsize=(14, 8))\n",
    "plt.title('Top LIWC Categories for Each Label')\n",
    "plt.xlabel('LIWC Categories')\n",
    "plt.ylabel('Mean Value')\n",
    "plt.xticks(rotation=45)\n",
    "plt.legend(title='Label')\n",
    "plt.show()"
   ]
  }
 ],
 "metadata": {
  "kernelspec": {
   "display_name": "Python 3",
   "language": "python",
   "name": "python3"
  },
  "language_info": {
   "codemirror_mode": {
    "name": "ipython",
    "version": 3
   },
   "file_extension": ".py",
   "mimetype": "text/x-python",
   "name": "python",
   "nbconvert_exporter": "python",
   "pygments_lexer": "ipython3",
   "version": "3.12.2"
  }
 },
 "nbformat": 4,
 "nbformat_minor": 2
}
