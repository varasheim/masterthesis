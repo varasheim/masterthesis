{
 "cells": [
  {
   "cell_type": "code",
   "execution_count": null,
   "metadata": {},
   "outputs": [],
   "source": [
    "import nltk\n",
    "nltk.download('averaged_perceptron_tagger')\n",
    "nltk.download('punkt')"
   ]
  },
  {
   "cell_type": "markdown",
   "metadata": {},
   "source": [
    "Retrive data"
   ]
  },
  {
   "cell_type": "code",
   "execution_count": null,
   "metadata": {},
   "outputs": [],
   "source": [
    "import spacy\n",
    "import pandas as pd\n",
    "import pandas as pd\n",
    "import matplotlib.pyplot as plt\n",
    "\n",
    "df = pd.read_csv(\"redditADHD2012_preprocessed.csv\")\n",
    "\n",
    "print(df.head)\n",
    "\n",
    "# Load the spaCy model\n",
    "nlp = spacy.load(\"en_core_web_sm\")"
   ]
  },
  {
   "cell_type": "markdown",
   "metadata": {},
   "source": [
    "POS Tagging"
   ]
  },
  {
   "cell_type": "code",
   "execution_count": null,
   "metadata": {},
   "outputs": [],
   "source": [
    "import re\n",
    "\n",
    "# Modify the pos_tag_text function to return only the POS tags, not the tokens\n",
    "def pos_tag_text(text):\n",
    "    # Process the text through spaCy\n",
    "    doc = nlp(text)\n",
    "    # Extract and return only the POS tags\n",
    "    return [token.pos_ for token in doc]\n",
    "\n",
    "# Define a function to clean a single POS tag by removing special characters\n",
    "def clean_pos_tag(tag):\n",
    "    # This regex replaces any character that is not a letter or number with an underscore\n",
    "    return re.sub(r'[^A-Za-z0-9]+', '_', tag)\n",
    "\n",
    "# Apply the pos_tag_text function to get the POS tags\n",
    "df['pos_tags'] = df['combined_text'].apply(pos_tag_text)\n",
    "\n",
    "# Clean each POS tag using a list comprehension\n",
    "df['pos_tags'] = df['pos_tags'].apply(lambda tags: [clean_pos_tag(tag) for tag in tags])\n"
   ]
  },
  {
   "cell_type": "markdown",
   "metadata": {},
   "source": [
    "POS tags for each label of post"
   ]
  },
  {
   "cell_type": "code",
   "execution_count": null,
   "metadata": {},
   "outputs": [],
   "source": [
    "from collections import Counter\n",
    "\n",
    "categories = df['label'].unique()\n",
    "pos_counts = {category: Counter() for category in categories}\n",
    "\n",
    "for category in categories:\n",
    "    # Subset the dataframe for the category\n",
    "    subset = df[df['label'] == category]\n",
    "    # Flatten the list of lists of POS tags and count each POS tag\n",
    "    pos_counts[category].update([pos for sublist in subset['pos_tags'] for pos in sublist])\n",
    "\n",
    "# Calculate the average number of each POS tag per tweet for each category\n",
    "pos_averages = {category: {pos: count / len(df[df['label'] == category]) for pos, count in pos_counts[category].items()} for category in categories}\n",
    "\n",
    "# Now we'll create a dataframe for plotting\n",
    "pos_df = pd.DataFrame(pos_averages)"
   ]
  },
  {
   "cell_type": "markdown",
   "metadata": {},
   "source": [
    "Diagram"
   ]
  },
  {
   "cell_type": "code",
   "execution_count": null,
   "metadata": {},
   "outputs": [],
   "source": [
    "colors = [\"#7eb0d5\", \"#fd7f6f\", \"#b2e061\"]  # Pastel colors\n",
    "\n",
    "ax = pos_df.plot(kind='bar', figsize=(12, 8), color=colors)\n",
    "ax.set_xlabel('POS Tags', fontsize=14)\n",
    "ax.set_ylabel('Average Number of Tags per Post', fontsize=14)\n",
    "ax.legend(labels=['Neutral', 'Self-diagnosis', 'Self-medication'], fontsize=12)\n",
    "\n",
    "plt.xticks(rotation=45, ha='right')\n",
    "plt.tight_layout()\n",
    "plt.grid(axis='y', linestyle='--', alpha=0.7)\n",
    "plt.show()\n"
   ]
  }
 ],
 "metadata": {
  "kernelspec": {
   "display_name": "Python 3",
   "language": "python",
   "name": "python3"
  },
  "language_info": {
   "codemirror_mode": {
    "name": "ipython",
    "version": 3
   },
   "file_extension": ".py",
   "mimetype": "text/x-python",
   "name": "python",
   "nbconvert_exporter": "python",
   "pygments_lexer": "ipython3",
   "version": "3.12.2"
  }
 },
 "nbformat": 4,
 "nbformat_minor": 2
}
